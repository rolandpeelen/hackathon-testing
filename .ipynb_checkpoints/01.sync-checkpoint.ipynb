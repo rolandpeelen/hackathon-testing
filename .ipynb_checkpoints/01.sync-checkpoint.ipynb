{
 "cells": [
  {
   "cell_type": "code",
   "execution_count": null,
   "id": "31c10758",
   "metadata": {},
   "outputs": [],
   "source": [
    "from openai import OpenAI\n",
    "import json\n",
    "client = OpenAI()\n",
    "schema = {\n",
    "    \"title\": \"StepByStepAIResponse\",\n",
    "    'type': 'object',\n",
    "    'properties': {'title': {'title': 'Title', 'type': 'string'},\n",
    "    'steps': {'title': 'Steps', 'type': 'array', 'items': {'type': 'string'}}},\n",
    "    'required': ['title', 'steps']\n",
    "}\n",
    "\n",
    "\n",
    "completion = client.chat.completions.create(\n",
    "   model=\"gpt-4-vision-preview\",\n",
    "   # model=\"gpt-4-1106-preview\",\n",
    "\n",
    "  messages=[\n",
    "    {\"role\": \"system\", \"content\": \"You are a sales consultant / solutions engineer. You help companies create demos of their products. Their products are software applications that are built using web technologies.\n",
    "You are going to help someone make a demo. You will be presented with a prompt that holds information about the product the client wants to present, about their prospect, and a rough description on what the product does.\n",
    "You will then receive a screenshot. I want you to tell our customer where to click next, do so in terms of the image that is part of the prompt, and return the id, that is denoted by the i tag in the html that you are provided with. After that, you'll receive a new screenshot.\"},\n",
    "    # {\"role\": \"user\", \"content\": \"Compose a poem that explains the concept of recursion in programming.\"}\n",
    "    \n",
    "    {\"role\": \"user\", \"content\": \"my message\"}\n",
    "\n",
    "  ],\n",
    "  functions=[\n",
    "        {\n",
    "          \"name\": \"get_answer_for_user_query\",\n",
    "          \"description\": \"Get user answer in series of steps\",\n",
    "          \"parameters\": schema\n",
    "        }\n",
    "    ],\n",
    "    function_call={\"name\": \"get_answer_for_user_query\"}\n",
    "\n",
    ")"
   ]
  }
 ],
 "metadata": {
  "kernelspec": {
   "display_name": "Python 3 (ipykernel)",
   "language": "python",
   "name": "python3"
  },
  "language_info": {
   "codemirror_mode": {
    "name": "ipython",
    "version": 3
   },
   "file_extension": ".py",
   "mimetype": "text/x-python",
   "name": "python",
   "nbconvert_exporter": "python",
   "pygments_lexer": "ipython3",
   "version": "3.11.2"
  }
 },
 "nbformat": 4,
 "nbformat_minor": 5
}
