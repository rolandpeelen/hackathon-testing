{
 "cells": [
  {
   "cell_type": "code",
   "execution_count": 1,
   "id": "3717623a-6c86-46fd-ade6-5ad2ccf07d09",
   "metadata": {},
   "outputs": [],
   "source": [
    "from selenium import webdriver\n",
    "from time import sleep\n",
    "\n",
    "driver = webdriver.Chrome()\n",
    "driver.get('https://www.nu.nl')\n",
    "sleep(1)\n",
    "\n",
    "# driver.get_screenshot_as_file(\"screenshot.png\")\n",
    "driver.quit()\n",
    "# print(\"end...\")"
   ]
  },
  {
   "cell_type": "code",
   "execution_count": null,
   "id": "06669fdc-97f9-4c99-8aa5-b30af82115f5",
   "metadata": {},
   "outputs": [],
   "source": []
  }
 ],
 "metadata": {
  "kernelspec": {
   "display_name": "Python 3 (ipykernel)",
   "language": "python",
   "name": "python3"
  },
  "language_info": {
   "codemirror_mode": {
    "name": "ipython",
    "version": 3
   },
   "file_extension": ".py",
   "mimetype": "text/x-python",
   "name": "python",
   "nbconvert_exporter": "python",
   "pygments_lexer": "ipython3",
   "version": "3.11.2"
  }
 },
 "nbformat": 4,
 "nbformat_minor": 5
}
